{
 "cells": [
  {
   "cell_type": "code",
   "execution_count": null,
   "metadata": {},
   "outputs": [
    {
     "name": "stdout",
     "output_type": "stream",
     "text": [
      "pygame 1.9.6\n",
      "Hello from the pygame community. https://www.pygame.org/contribute.html\n"
     ]
    }
   ],
   "source": [
    "import pygame\n",
    "from pygame.draw import *\n",
    "\n",
    "pygame.init()\n",
    "\n",
    "FPS = 30\n",
    "screen = pygame.display.set_mode((400, 400))\n",
    "\n",
    "rect(screen, (255, 0, 255), (100, 100, 200, 200))\n",
    "rect(screen, (0, 0, 255), (100, 100, 200, 200), 5)\n",
    "polygon(screen, (255, 255, 0), [(100,100), (200,50),\n",
    "                               (300,100), (100,100)])\n",
    "polygon(screen, (0, 0, 255), [(100,100), (200,50),\n",
    "                               (300,100), (100,100)], 5)\n",
    "circle(screen, (0, 255, 0), (200, 175), 50)\n",
    "circle(screen, (255, 255, 255), (200, 175), 50, 5)\n",
    "\n",
    "pygame.display.update()\n",
    "clock = pygame.time.Clock()\n",
    "finished = False\n",
    "\n",
    "while not finished:\n",
    "    clock.tick(FPS)\n",
    "    for event in pygame.event.get():\n",
    "        if event.type == pygame.QUIT:\n",
    "            finished = True\n",
    "\n",
    "pygame.quit()"
   ]
  },
  {
   "cell_type": "code",
   "execution_count": null,
   "metadata": {},
   "outputs": [],
   "source": []
  }
 ],
 "metadata": {
  "kernelspec": {
   "display_name": "Python 3",
   "language": "python",
   "name": "python3"
  },
  "language_info": {
   "codemirror_mode": {
    "name": "ipython",
    "version": 3
   },
   "file_extension": ".py",
   "mimetype": "text/x-python",
   "name": "python",
   "nbconvert_exporter": "python",
   "pygments_lexer": "ipython3",
   "version": "3.8.3"
  }
 },
 "nbformat": 4,
 "nbformat_minor": 4
}
