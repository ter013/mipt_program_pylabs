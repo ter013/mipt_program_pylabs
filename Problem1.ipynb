{
 "cells": [
  {
   "cell_type": "code",
   "execution_count": 6,
   "metadata": {},
   "outputs": [
    {
     "ename": "SyntaxError",
     "evalue": "closing parenthesis ')' does not match opening parenthesis '[' on line 31 (<ipython-input-6-e6707ad05c97>, line 32)",
     "output_type": "error",
     "traceback": [
      "\u001b[1;36m  File \u001b[1;32m\"<ipython-input-6-e6707ad05c97>\"\u001b[1;36m, line \u001b[1;32m32\u001b[0m\n\u001b[1;33m    220,150), (212,150)])\u001b[0m\n\u001b[1;37m           ^\u001b[0m\n\u001b[1;31mSyntaxError\u001b[0m\u001b[1;31m:\u001b[0m closing parenthesis ')' does not match opening parenthesis '[' on line 31\n"
     ]
    }
   ],
   "source": [
    "import pygame\n",
    "from pygame.draw import *\n",
    "\n",
    "pygame.init()\n",
    "\n",
    "FPS = 30\n",
    "screen = pygame.display.set_mode((400, 400))\n",
    "screen.fill((255,255,255))\n",
    "\n",
    "black=(0,0,0)\n",
    "yellow=(255, 255, 0)\n",
    "red=(255,0,0)\n",
    "circle(screen, yellow, (200,200), 100)\n",
    "circle(screen, black, (200, 200), 100, 1)\n",
    "\n",
    "circle(screen, red, (160,175), 22)\n",
    "circle(screen, black, (160,175), 22,1)\n",
    "\n",
    "circle(screen, black, (160,175), 7)\n",
    "\n",
    "circle(screen, red, (240,175), 18)\n",
    "circle(screen, black, (240,175), 18,1)\n",
    "\n",
    "circle(screen, black, (240,175), 7)\n",
    "\n",
    "rect(screen, black, (160, 240, 80, 10))\n",
    "\n",
    "polygon(screen, black, [(120,130), (130,130),\n",
    "                               (180,150), (170,150)])\n",
    "\n",
    "polygon(screen, black, [(250,140), (258,140),\n",
    "                               220,150), (212,150)])\n",
    "\n",
    "\n",
    "pygame.display.update()\n",
    "clock = pygame.time.Clock()\n",
    "finished = False\n",
    "\n",
    "while not finished:\n",
    "    clock.tick(FPS)\n",
    "    for event in pygame.event.get():\n",
    "        if event.type == pygame.QUIT:\n",
    "            finished = True\n",
    "\n",
    "pygame.quit()"
   ]
  },
  {
   "cell_type": "code",
   "execution_count": null,
   "metadata": {},
   "outputs": [],
   "source": []
  }
 ],
 "metadata": {
  "kernelspec": {
   "display_name": "Python 3",
   "language": "python",
   "name": "python3"
  },
  "language_info": {
   "codemirror_mode": {
    "name": "ipython",
    "version": 3
   },
   "file_extension": ".py",
   "mimetype": "text/x-python",
   "name": "python",
   "nbconvert_exporter": "python",
   "pygments_lexer": "ipython3",
   "version": "3.8.3"
  }
 },
 "nbformat": 4,
 "nbformat_minor": 4
}
